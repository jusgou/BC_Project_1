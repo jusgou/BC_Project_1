{
 "cells": [
  {
   "cell_type": "markdown",
   "metadata": {},
   "source": [
    "# CLAIRVOYANT ROBO INVESTMENTS: ANY MORE HUMAN AND WE'D BLEED"
   ]
  },
  {
   "cell_type": "code",
   "execution_count": 12,
   "metadata": {},
   "outputs": [],
   "source": [
    "## Import Libraries\n",
    "import panel as pn\n",
    "pn.extension('plotly')\n",
    "import plotly.express as px\n",
    "import hvplot.pandas\n",
    "import requests\n",
    "import urllib.request \n",
    "import os\n",
    "import seaborn as sns\n",
    "import yfinance as yf\n",
    "from datetime import date\n",
    "from pathlib import Path\n",
    "from dotenv import load_dotenv\n",
    "from datetime import date\n",
    "from pandas_datareader import data as pdr\n",
    "import pandas as pd\n",
    "import matplotlib.pyplot as plt\n",
    "%matplotlib inline\n",
    "import FundamentalAnalysis as fa\n",
    "import json \n",
    "from pathlib import Path\n",
    "import numpy as np\n",
    "import yaml\n",
    "import io\n",
    "from MCForecastTools import MCSimulation\n",
    "import pytz\n",
    "import glob\n"
   ]
  },
  {
   "cell_type": "markdown",
   "metadata": {},
   "source": [
    "## Client Onboarding and Portfolio Selection"
   ]
  },
  {
   "cell_type": "code",
   "execution_count": 39,
   "metadata": {},
   "outputs": [],
   "source": [
    "## Import client KYC form as .yaml file\n",
    "#with open(\"jus_form.yaml\") as file:    \n",
    "   # kyc_data = yaml.load(file, Loader=yaml.FullLoader)\n",
    "    #print(kyc_data)"
   ]
  },
  {
   "cell_type": "code",
   "execution_count": 40,
   "metadata": {},
   "outputs": [],
   "source": [
    "#with open(r\"jus_form.yaml\") as file:\n",
    "    #df = pd.json_normalize(yaml.load(file, Loader=yaml.FullLoader))\n",
    "#columns = [\"Date\", \"First Name\", \"Last Name\", \"Birth Date\", \"Annual Income\", \"Initial Investment\", \"Occupation\", \"Investment Goals\", \"Investment Time Horizon\", \"Risk Tolerance\", \"Investment Constraints\"]\n",
    "#df.columns = columns\n",
    "#df.head()"
   ]
  },
  {
   "cell_type": "code",
   "execution_count": 41,
   "metadata": {},
   "outputs": [],
   "source": [
    "## View KYC form if desired:\n",
    "#kyc_form = yaml.dump(kyc_data, sort_keys=False)\n",
    "#print(kyc_form)"
   ]
  },
  {
   "cell_type": "code",
   "execution_count": 38,
   "metadata": {},
   "outputs": [
    {
     "data": {
      "text/html": [
       "<div>\n",
       "<style scoped>\n",
       "    .dataframe tbody tr th:only-of-type {\n",
       "        vertical-align: middle;\n",
       "    }\n",
       "\n",
       "    .dataframe tbody tr th {\n",
       "        vertical-align: top;\n",
       "    }\n",
       "\n",
       "    .dataframe thead th {\n",
       "        text-align: right;\n",
       "    }\n",
       "</style>\n",
       "<table border=\"1\" class=\"dataframe\">\n",
       "  <thead>\n",
       "    <tr style=\"text-align: right;\">\n",
       "      <th></th>\n",
       "      <th>First Name</th>\n",
       "      <th>Last Name</th>\n",
       "      <th>Birth Date</th>\n",
       "      <th>Annual Income</th>\n",
       "      <th>Initial Investment</th>\n",
       "      <th>Occupation</th>\n",
       "      <th>Investment Goals</th>\n",
       "      <th>Investment Time Horizon</th>\n",
       "      <th>Risk Tolerance</th>\n",
       "      <th>Investment Constraints</th>\n",
       "    </tr>\n",
       "    <tr>\n",
       "      <th>Date</th>\n",
       "      <th></th>\n",
       "      <th></th>\n",
       "      <th></th>\n",
       "      <th></th>\n",
       "      <th></th>\n",
       "      <th></th>\n",
       "      <th></th>\n",
       "      <th></th>\n",
       "      <th></th>\n",
       "      <th></th>\n",
       "    </tr>\n",
       "  </thead>\n",
       "  <tbody>\n",
       "    <tr>\n",
       "      <th>2015-05-08</th>\n",
       "      <td>Coney</td>\n",
       "      <td>Dacanay</td>\n",
       "      <td>1988-01-01</td>\n",
       "      <td>200000</td>\n",
       "      <td>75000</td>\n",
       "      <td>None</td>\n",
       "      <td>growth</td>\n",
       "      <td>20</td>\n",
       "      <td>medium</td>\n",
       "      <td>none</td>\n",
       "    </tr>\n",
       "    <tr>\n",
       "      <th>2015-12-05</th>\n",
       "      <td>Dipendra</td>\n",
       "      <td>Shastri</td>\n",
       "      <td>1982-01-01</td>\n",
       "      <td>150000</td>\n",
       "      <td>50000</td>\n",
       "      <td>None</td>\n",
       "      <td>growth</td>\n",
       "      <td>30</td>\n",
       "      <td>high</td>\n",
       "      <td>none</td>\n",
       "    </tr>\n",
       "    <tr>\n",
       "      <th>2018-05-07</th>\n",
       "      <td>Yu</td>\n",
       "      <td>Wang</td>\n",
       "      <td>1985-01-01</td>\n",
       "      <td>100000</td>\n",
       "      <td>20000</td>\n",
       "      <td>None</td>\n",
       "      <td>growth</td>\n",
       "      <td>15</td>\n",
       "      <td>high</td>\n",
       "      <td>none</td>\n",
       "    </tr>\n",
       "    <tr>\n",
       "      <th>2019-07-08</th>\n",
       "      <td>Justin</td>\n",
       "      <td>Gouin</td>\n",
       "      <td>1987-11-07</td>\n",
       "      <td>100000</td>\n",
       "      <td>20000</td>\n",
       "      <td>None</td>\n",
       "      <td>growth</td>\n",
       "      <td>30</td>\n",
       "      <td>high</td>\n",
       "      <td>none</td>\n",
       "    </tr>\n",
       "    <tr>\n",
       "      <th>2021-03-08</th>\n",
       "      <td>Sherin</td>\n",
       "      <td>Sher</td>\n",
       "      <td>1985-01-01</td>\n",
       "      <td>75000</td>\n",
       "      <td>20000</td>\n",
       "      <td>None</td>\n",
       "      <td>growth</td>\n",
       "      <td>10</td>\n",
       "      <td>low</td>\n",
       "      <td>none</td>\n",
       "    </tr>\n",
       "  </tbody>\n",
       "</table>\n",
       "</div>"
      ],
      "text/plain": [
       "           First Name Last Name  Birth Date  Annual Income  \\\n",
       "Date                                                         \n",
       "2015-05-08      Coney   Dacanay  1988-01-01         200000   \n",
       "2015-12-05   Dipendra   Shastri  1982-01-01         150000   \n",
       "2018-05-07         Yu      Wang  1985-01-01         100000   \n",
       "2019-07-08     Justin     Gouin  1987-11-07         100000   \n",
       "2021-03-08     Sherin      Sher  1985-01-01          75000   \n",
       "\n",
       "            Initial Investment Occupation Investment Goals  \\\n",
       "Date                                                         \n",
       "2015-05-08               75000       None           growth   \n",
       "2015-12-05               50000       None           growth   \n",
       "2018-05-07               20000       None           growth   \n",
       "2019-07-08               20000       None           growth   \n",
       "2021-03-08               20000       None           growth   \n",
       "\n",
       "            Investment Time Horizon Risk Tolerance Investment Constraints  \n",
       "Date                                                                       \n",
       "2015-05-08                       20         medium                   none  \n",
       "2015-12-05                       30           high                   none  \n",
       "2018-05-07                       15           high                   none  \n",
       "2019-07-08                       30           high                   none  \n",
       "2021-03-08                       10            low                   none  "
      ]
     },
     "execution_count": 38,
     "metadata": {},
     "output_type": "execute_result"
    }
   ],
   "source": [
    "path = r\"C:\\Users\\justi\\Documents\\01_UofT_BC_Fintech\\01_Homework\\BC_Project_1\"\n",
    "all_files = glob.glob(path + \"/*.yaml\")\n",
    "li = []\n",
    "for filename in all_files[:10]:\n",
    "    with open(filename, \"r\") as fh:\n",
    "        df = pd.json_normalize(yaml.safe_load(fh.read()))\n",
    "    li.append(df)\n",
    "all_cust_kyc = pd.concat(li)\n",
    "columns = [\"Date\", \"First Name\", \"Last Name\", \"Birth Date\", \"Annual Income\", \"Initial Investment\", \"Occupation\", \"Investment Goals\", \"Investment Time Horizon\", \"Risk Tolerance\", \"Investment Constraints\"]\n",
    "all_cust_kyc.columns = columns\n",
    "all_cust_kyc = all_cust_kyc.set_index(all_cust_kyc[\"Date\"])\n",
    "all_cust_kyc = all_cust_kyc.drop(columns=[\"Date\"])\n",
    "all_cust_kyc = all_cust_kyc.sort_index()\n",
    "all_cust_kyc"
   ]
  },
  {
   "cell_type": "code",
   "execution_count": 45,
   "metadata": {},
   "outputs": [
    {
     "data": {
      "text/plain": [
       "'low'"
      ]
     },
     "execution_count": 45,
     "metadata": {},
     "output_type": "execute_result"
    }
   ],
   "source": [
    "#automate a loop or a function to select the datapoints \n",
    "all_cust_kyc.iloc[4,8]\n",
    "\n",
    "for person in \n",
    "\n",
    "#make it so we are just call the columns and the index row is given by calling a particular row (say by name for exmaple) "
   ]
  },
  {
   "cell_type": "code",
   "execution_count": 43,
   "metadata": {},
   "outputs": [],
   "source": [
    "## Extract key data points from client KYC form\n",
    "risk = kyc_data[\"intake_form\"][\"risk_tolerance\"]\n",
    "income = kyc_data[\"intake_form\"][\"annual_income\"]\n",
    "goals = kyc_data[\"intake_form\"][\"investment_goals\"]\n",
    "horizon = kyc_data[\"intake_form\"][\"investment_time_horizon\"]\n",
    "initial_investment: kyc_data[\"intake_form\"][\"initial_investment\"]"
   ]
  },
  {
   "cell_type": "code",
   "execution_count": 44,
   "metadata": {},
   "outputs": [
    {
     "name": "stdout",
     "output_type": "stream",
     "text": [
      "2\n"
     ]
    }
   ],
   "source": [
    "## Categorize client's Risk Tolerance\n",
    "if risk == \"low\":\n",
    "    r = 0\n",
    "elif risk == \"medium\":\n",
    "    r = 1\n",
    "elif risk == \"high\":\n",
    "    r = 2\n",
    "print(r)"
   ]
  },
  {
   "cell_type": "code",
   "execution_count": 45,
   "metadata": {},
   "outputs": [
    {
     "name": "stdout",
     "output_type": "stream",
     "text": [
      "1\n"
     ]
    }
   ],
   "source": [
    "## Categorize client's Annual Income\n",
    "if income <= 75000:\n",
    "    i = 0\n",
    "elif income >= 75001 and income <= 150000:\n",
    "    i = 1\n",
    "elif income >= 150001:\n",
    "    i = 2\n",
    "print(i)"
   ]
  },
  {
   "cell_type": "code",
   "execution_count": 46,
   "metadata": {},
   "outputs": [
    {
     "name": "stdout",
     "output_type": "stream",
     "text": [
      "2\n"
     ]
    }
   ],
   "source": [
    "## Categorize client's Investment Goals\n",
    "if goals == \"preservation\":\n",
    "    g = 0\n",
    "elif goals == \"income\":\n",
    "    g = 1\n",
    "elif goals == \"growth\":\n",
    "    g = 2\n",
    "print(g)"
   ]
  },
  {
   "cell_type": "code",
   "execution_count": 47,
   "metadata": {},
   "outputs": [
    {
     "name": "stdout",
     "output_type": "stream",
     "text": [
      "1\n"
     ]
    }
   ],
   "source": [
    "### Categorize client's Time Horizon:\n",
    "if horizon >= 0 and horizon <= 10:\n",
    "    h = 3\n",
    "elif horizon >= 11 and horizon <= 20:\n",
    "    h = 2\n",
    "elif horizon >= 21:\n",
    "    h = 1\n",
    "print(h)"
   ]
  },
  {
   "cell_type": "code",
   "execution_count": 48,
   "metadata": {},
   "outputs": [
    {
     "name": "stdout",
     "output_type": "stream",
     "text": [
      "3\n"
     ]
    }
   ],
   "source": [
    "## Compile client categorizations to determine portfolio suitability:\n",
    "client_portfolio_number = r + i + g + h\n",
    "if client_portfolio_number >= 0 and client_portfolio_number <= 1.5:\n",
    "    pn = 1\n",
    "if client_portfolio_number >= 2 and client_portfolio_number <= 4.5:\n",
    "    pn = 2\n",
    "if client_portfolio_number >= 5: \n",
    "    pn = 3\n",
    "print(pn)"
   ]
  },
  {
   "cell_type": "code",
   "execution_count": null,
   "metadata": {},
   "outputs": [],
   "source": []
  },
  {
   "cell_type": "markdown",
   "metadata": {},
   "source": [
    "## Define the Portfolios / Import Dataset / Clean Data / Prepare Data for Presentation to Client"
   ]
  },
  {
   "cell_type": "code",
   "execution_count": 49,
   "metadata": {},
   "outputs": [],
   "source": [
    "### EXTRA ## Create a 'for loop' to automatically call APIs based on the Portfolio Number (PN)"
   ]
  },
  {
   "cell_type": "code",
   "execution_count": 50,
   "metadata": {},
   "outputs": [
    {
     "name": "stdout",
     "output_type": "stream",
     "text": [
      "[*********************100%***********************]  11 of 11 completed\n"
     ]
    },
    {
     "data": {
      "text/html": [
       "<div>\n",
       "<style scoped>\n",
       "    .dataframe tbody tr th:only-of-type {\n",
       "        vertical-align: middle;\n",
       "    }\n",
       "\n",
       "    .dataframe tbody tr th {\n",
       "        vertical-align: top;\n",
       "    }\n",
       "\n",
       "    .dataframe thead th {\n",
       "        text-align: right;\n",
       "    }\n",
       "</style>\n",
       "<table border=\"1\" class=\"dataframe\">\n",
       "  <thead>\n",
       "    <tr style=\"text-align: right;\">\n",
       "      <th></th>\n",
       "      <th>AAPL</th>\n",
       "      <th>AMZN</th>\n",
       "      <th>DAL</th>\n",
       "      <th>GE</th>\n",
       "      <th>JNJ</th>\n",
       "      <th>MNST</th>\n",
       "      <th>MSFT</th>\n",
       "      <th>PYPL</th>\n",
       "      <th>SHOP</th>\n",
       "      <th>SPY</th>\n",
       "      <th>UPS</th>\n",
       "    </tr>\n",
       "    <tr>\n",
       "      <th>Date</th>\n",
       "      <th></th>\n",
       "      <th></th>\n",
       "      <th></th>\n",
       "      <th></th>\n",
       "      <th></th>\n",
       "      <th></th>\n",
       "      <th></th>\n",
       "      <th></th>\n",
       "      <th></th>\n",
       "      <th></th>\n",
       "      <th></th>\n",
       "    </tr>\n",
       "  </thead>\n",
       "  <tbody>\n",
       "    <tr>\n",
       "      <th>2001-04-02</th>\n",
       "      <td>0.385536</td>\n",
       "      <td>9.10</td>\n",
       "      <td>NaN</td>\n",
       "      <td>40.192307</td>\n",
       "      <td>43.660000</td>\n",
       "      <td>0.069661</td>\n",
       "      <td>27.90625</td>\n",
       "      <td>NaN</td>\n",
       "      <td>NaN</td>\n",
       "      <td>114.199997</td>\n",
       "      <td>55.580002</td>\n",
       "    </tr>\n",
       "    <tr>\n",
       "      <th>2001-04-03</th>\n",
       "      <td>0.361429</td>\n",
       "      <td>8.63</td>\n",
       "      <td>NaN</td>\n",
       "      <td>38.153847</td>\n",
       "      <td>43.055000</td>\n",
       "      <td>0.068359</td>\n",
       "      <td>26.68750</td>\n",
       "      <td>NaN</td>\n",
       "      <td>NaN</td>\n",
       "      <td>110.389999</td>\n",
       "      <td>53.209999</td>\n",
       "    </tr>\n",
       "    <tr>\n",
       "      <th>2001-04-04</th>\n",
       "      <td>0.348214</td>\n",
       "      <td>8.40</td>\n",
       "      <td>NaN</td>\n",
       "      <td>38.076923</td>\n",
       "      <td>43.455002</td>\n",
       "      <td>0.067708</td>\n",
       "      <td>25.96875</td>\n",
       "      <td>NaN</td>\n",
       "      <td>NaN</td>\n",
       "      <td>110.849998</td>\n",
       "      <td>52.959999</td>\n",
       "    </tr>\n",
       "    <tr>\n",
       "      <th>2001-04-05</th>\n",
       "      <td>0.372679</td>\n",
       "      <td>9.12</td>\n",
       "      <td>NaN</td>\n",
       "      <td>40.480770</td>\n",
       "      <td>44.439999</td>\n",
       "      <td>0.067708</td>\n",
       "      <td>28.37500</td>\n",
       "      <td>NaN</td>\n",
       "      <td>NaN</td>\n",
       "      <td>115.050003</td>\n",
       "      <td>53.320000</td>\n",
       "    </tr>\n",
       "    <tr>\n",
       "      <th>2001-04-06</th>\n",
       "      <td>0.367679</td>\n",
       "      <td>8.37</td>\n",
       "      <td>NaN</td>\n",
       "      <td>39.586536</td>\n",
       "      <td>45.195000</td>\n",
       "      <td>0.069010</td>\n",
       "      <td>28.09375</td>\n",
       "      <td>NaN</td>\n",
       "      <td>NaN</td>\n",
       "      <td>113.300003</td>\n",
       "      <td>54.180000</td>\n",
       "    </tr>\n",
       "  </tbody>\n",
       "</table>\n",
       "</div>"
      ],
      "text/plain": [
       "                AAPL  AMZN  DAL         GE        JNJ      MNST      MSFT  \\\n",
       "Date                                                                        \n",
       "2001-04-02  0.385536  9.10  NaN  40.192307  43.660000  0.069661  27.90625   \n",
       "2001-04-03  0.361429  8.63  NaN  38.153847  43.055000  0.068359  26.68750   \n",
       "2001-04-04  0.348214  8.40  NaN  38.076923  43.455002  0.067708  25.96875   \n",
       "2001-04-05  0.372679  9.12  NaN  40.480770  44.439999  0.067708  28.37500   \n",
       "2001-04-06  0.367679  8.37  NaN  39.586536  45.195000  0.069010  28.09375   \n",
       "\n",
       "            PYPL  SHOP         SPY        UPS  \n",
       "Date                                           \n",
       "2001-04-02   NaN   NaN  114.199997  55.580002  \n",
       "2001-04-03   NaN   NaN  110.389999  53.209999  \n",
       "2001-04-04   NaN   NaN  110.849998  52.959999  \n",
       "2001-04-05   NaN   NaN  115.050003  53.320000  \n",
       "2001-04-06   NaN   NaN  113.300003  54.180000  "
      ]
     },
     "execution_count": 50,
     "metadata": {},
     "output_type": "execute_result"
    }
   ],
   "source": [
    "## Import Stock Data\n",
    "stocks = yf.download(\"SPY AAPL AMZN DAL GE JNJ MSFT MNST PYPL SHOP UPS\", start=\"2001-04-01\", end=\"2021-04-01\").Close\n",
    "stocks.head()"
   ]
  },
  {
   "cell_type": "code",
   "execution_count": 52,
   "metadata": {},
   "outputs": [
    {
     "data": {
      "text/plain": [
       "AAPL       0\n",
       "AMZN       0\n",
       "DAL     1528\n",
       "GE         0\n",
       "JNJ        0\n",
       "MNST       0\n",
       "MSFT       0\n",
       "PYPL    3585\n",
       "SHOP    3554\n",
       "SPY        0\n",
       "UPS        0\n",
       "dtype: int64"
      ]
     },
     "execution_count": 52,
     "metadata": {},
     "output_type": "execute_result"
    }
   ],
   "source": [
    "## Analyze the dataset to ensure there are no null entries\n",
    "stocks.isnull().sum()"
   ]
  },
  {
   "cell_type": "code",
   "execution_count": 53,
   "metadata": {},
   "outputs": [
    {
     "data": {
      "text/plain": [
       "AAPL    0\n",
       "AMZN    0\n",
       "DAL     0\n",
       "GE      0\n",
       "JNJ     0\n",
       "MNST    0\n",
       "MSFT    0\n",
       "PYPL    0\n",
       "SHOP    0\n",
       "SPY     0\n",
       "UPS     0\n",
       "dtype: int64"
      ]
     },
     "execution_count": 53,
     "metadata": {},
     "output_type": "execute_result"
    }
   ],
   "source": [
    "stocks.dropna(inplace=True)\n",
    "stocks.isnull().sum()"
   ]
  },
  {
   "cell_type": "code",
   "execution_count": 54,
   "metadata": {},
   "outputs": [],
   "source": [
    "## Calculate Daily Percent Changes\n",
    "stocks_rtn = stocks.pct_change()"
   ]
  },
  {
   "cell_type": "code",
   "execution_count": 57,
   "metadata": {},
   "outputs": [
    {
     "data": {
      "text/plain": [
       "SPY     0.011826\n",
       "JNJ     0.012375\n",
       "UPS     0.015930\n",
       "MSFT    0.017456\n",
       "MNST    0.018211\n",
       "AAPL    0.019099\n",
       "AMZN    0.019216\n",
       "PYPL    0.022030\n",
       "GE      0.024483\n",
       "DAL     0.026485\n",
       "SHOP    0.033246\n",
       "dtype: float64"
      ]
     },
     "execution_count": 57,
     "metadata": {},
     "output_type": "execute_result"
    }
   ],
   "source": [
    "## Calculate the standard deviation\n",
    "stocks_std = stocks_rtn.std()\n",
    "stocks_std = stocks_std.sort_values()\n",
    "stocks_std"
   ]
  },
  {
   "cell_type": "code",
   "execution_count": null,
   "metadata": {},
   "outputs": [],
   "source": []
  },
  {
   "cell_type": "markdown",
   "metadata": {},
   "source": [
    "#### Define Portfolios and Define Code for Selection"
   ]
  },
  {
   "cell_type": "code",
   "execution_count": 58,
   "metadata": {},
   "outputs": [],
   "source": [
    "##COULD BE DONE WITH BINNING?\n",
    "\n",
    "# Create the variable bins to define our bounds for when we cut the dataframe.\n",
    "##bins = [0, 30000, 70000, 100000, 200000]\n",
    "\n",
    "# Create names for the bins\n",
    "##group_names = [\"Low\", \"Moderate\", \"Above Average\", \"High\"]\n",
    "\n",
    "# Add a column named \"Salary Level\" to people_df and slice the data into the bins\n",
    "##people_df[\"Salary Level\"] = pd.cut(people_df[\"Salary\"], bins, labels=group_names)\n",
    "\n",
    "##people_df.head()"
   ]
  },
  {
   "cell_type": "code",
   "execution_count": 59,
   "metadata": {},
   "outputs": [],
   "source": [
    "portfolio_1 = stocks.drop(columns=[\"SPY\", \"SHOP\", \"DAL\", \"GE\", \"PYPL\"]) \n",
    "portfolio_2 = stocks.drop(columns=[\"SPY\", \"JNJ\", \"UPS\", \"SHOP\", \"DAL\"])\n",
    "portfolio_3 = stocks.drop(columns=[\"SPY\", \"JNJ\", \"UPS\", \"MSFT\", \"MNST\"])"
   ]
  },
  {
   "cell_type": "code",
   "execution_count": 60,
   "metadata": {},
   "outputs": [],
   "source": [
    "if pn == 1:\n",
    "    portfolio = portfolio_1\n",
    "elif pn == 2:\n",
    "    portfolio = portfolio_2\n",
    "elif pn == 3:\n",
    "    portfolio = portfolio_3"
   ]
  },
  {
   "cell_type": "code",
   "execution_count": 61,
   "metadata": {},
   "outputs": [
    {
     "data": {
      "text/html": [
       "<div>\n",
       "<style scoped>\n",
       "    .dataframe tbody tr th:only-of-type {\n",
       "        vertical-align: middle;\n",
       "    }\n",
       "\n",
       "    .dataframe tbody tr th {\n",
       "        vertical-align: top;\n",
       "    }\n",
       "\n",
       "    .dataframe thead th {\n",
       "        text-align: right;\n",
       "    }\n",
       "</style>\n",
       "<table border=\"1\" class=\"dataframe\">\n",
       "  <thead>\n",
       "    <tr style=\"text-align: right;\">\n",
       "      <th></th>\n",
       "      <th>AAPL</th>\n",
       "      <th>AMZN</th>\n",
       "      <th>DAL</th>\n",
       "      <th>GE</th>\n",
       "      <th>PYPL</th>\n",
       "      <th>SHOP</th>\n",
       "    </tr>\n",
       "  </thead>\n",
       "  <tbody>\n",
       "    <tr>\n",
       "      <th>count</th>\n",
       "      <td>1446.000000</td>\n",
       "      <td>1446.000000</td>\n",
       "      <td>1446.000000</td>\n",
       "      <td>1446.000000</td>\n",
       "      <td>1446.000000</td>\n",
       "      <td>1446.000000</td>\n",
       "    </tr>\n",
       "    <tr>\n",
       "      <th>mean</th>\n",
       "      <td>52.984367</td>\n",
       "      <td>1539.218595</td>\n",
       "      <td>47.393126</td>\n",
       "      <td>17.544473</td>\n",
       "      <td>91.029066</td>\n",
       "      <td>287.946010</td>\n",
       "    </tr>\n",
       "    <tr>\n",
       "      <th>std</th>\n",
       "      <td>29.705451</td>\n",
       "      <td>824.384001</td>\n",
       "      <td>9.213564</td>\n",
       "      <td>8.800311</td>\n",
       "      <td>57.864171</td>\n",
       "      <td>350.683510</td>\n",
       "    </tr>\n",
       "    <tr>\n",
       "      <th>min</th>\n",
       "      <td>22.584999</td>\n",
       "      <td>429.700012</td>\n",
       "      <td>19.190001</td>\n",
       "      <td>5.490000</td>\n",
       "      <td>30.629999</td>\n",
       "      <td>19.330000</td>\n",
       "    </tr>\n",
       "    <tr>\n",
       "      <th>25%</th>\n",
       "      <td>29.993750</td>\n",
       "      <td>806.182495</td>\n",
       "      <td>42.865001</td>\n",
       "      <td>9.992500</td>\n",
       "      <td>40.497501</td>\n",
       "      <td>43.290000</td>\n",
       "    </tr>\n",
       "    <tr>\n",
       "      <th>50%</th>\n",
       "      <td>43.558750</td>\n",
       "      <td>1572.349976</td>\n",
       "      <td>49.389999</td>\n",
       "      <td>13.431538</td>\n",
       "      <td>80.645000</td>\n",
       "      <td>136.800003</td>\n",
       "    </tr>\n",
       "    <tr>\n",
       "      <th>75%</th>\n",
       "      <td>59.768126</td>\n",
       "      <td>1893.222504</td>\n",
       "      <td>54.157498</td>\n",
       "      <td>27.766828</td>\n",
       "      <td>108.767498</td>\n",
       "      <td>337.757492</td>\n",
       "    </tr>\n",
       "    <tr>\n",
       "      <th>max</th>\n",
       "      <td>143.160004</td>\n",
       "      <td>3531.449951</td>\n",
       "      <td>63.160000</td>\n",
       "      <td>31.663462</td>\n",
       "      <td>304.790009</td>\n",
       "      <td>1474.000000</td>\n",
       "    </tr>\n",
       "  </tbody>\n",
       "</table>\n",
       "</div>"
      ],
      "text/plain": [
       "              AAPL         AMZN          DAL           GE         PYPL  \\\n",
       "count  1446.000000  1446.000000  1446.000000  1446.000000  1446.000000   \n",
       "mean     52.984367  1539.218595    47.393126    17.544473    91.029066   \n",
       "std      29.705451   824.384001     9.213564     8.800311    57.864171   \n",
       "min      22.584999   429.700012    19.190001     5.490000    30.629999   \n",
       "25%      29.993750   806.182495    42.865001     9.992500    40.497501   \n",
       "50%      43.558750  1572.349976    49.389999    13.431538    80.645000   \n",
       "75%      59.768126  1893.222504    54.157498    27.766828   108.767498   \n",
       "max     143.160004  3531.449951    63.160000    31.663462   304.790009   \n",
       "\n",
       "              SHOP  \n",
       "count  1446.000000  \n",
       "mean    287.946010  \n",
       "std     350.683510  \n",
       "min      19.330000  \n",
       "25%      43.290000  \n",
       "50%     136.800003  \n",
       "75%     337.757492  \n",
       "max    1474.000000  "
      ]
     },
     "execution_count": 61,
     "metadata": {},
     "output_type": "execute_result"
    }
   ],
   "source": [
    "portfolio.describe()"
   ]
  },
  {
   "cell_type": "code",
   "execution_count": 62,
   "metadata": {},
   "outputs": [
    {
     "data": {
      "text/html": [
       "<div>\n",
       "<style scoped>\n",
       "    .dataframe tbody tr th:only-of-type {\n",
       "        vertical-align: middle;\n",
       "    }\n",
       "\n",
       "    .dataframe tbody tr th {\n",
       "        vertical-align: top;\n",
       "    }\n",
       "\n",
       "    .dataframe thead th {\n",
       "        text-align: right;\n",
       "    }\n",
       "</style>\n",
       "<table border=\"1\" class=\"dataframe\">\n",
       "  <thead>\n",
       "    <tr style=\"text-align: right;\">\n",
       "      <th></th>\n",
       "      <th>AAPL</th>\n",
       "      <th>AMZN</th>\n",
       "      <th>DAL</th>\n",
       "      <th>GE</th>\n",
       "      <th>PYPL</th>\n",
       "      <th>SHOP</th>\n",
       "    </tr>\n",
       "  </thead>\n",
       "  <tbody>\n",
       "    <tr>\n",
       "      <th>AAPL</th>\n",
       "      <td>1.000000</td>\n",
       "      <td>0.587826</td>\n",
       "      <td>0.324324</td>\n",
       "      <td>0.324375</td>\n",
       "      <td>0.586278</td>\n",
       "      <td>0.426582</td>\n",
       "    </tr>\n",
       "    <tr>\n",
       "      <th>AMZN</th>\n",
       "      <td>0.587826</td>\n",
       "      <td>1.000000</td>\n",
       "      <td>0.191837</td>\n",
       "      <td>0.199658</td>\n",
       "      <td>0.543531</td>\n",
       "      <td>0.485809</td>\n",
       "    </tr>\n",
       "    <tr>\n",
       "      <th>DAL</th>\n",
       "      <td>0.324324</td>\n",
       "      <td>0.191837</td>\n",
       "      <td>1.000000</td>\n",
       "      <td>0.483712</td>\n",
       "      <td>0.273492</td>\n",
       "      <td>0.174434</td>\n",
       "    </tr>\n",
       "    <tr>\n",
       "      <th>GE</th>\n",
       "      <td>0.324375</td>\n",
       "      <td>0.199658</td>\n",
       "      <td>0.483712</td>\n",
       "      <td>1.000000</td>\n",
       "      <td>0.232469</td>\n",
       "      <td>0.137533</td>\n",
       "    </tr>\n",
       "    <tr>\n",
       "      <th>PYPL</th>\n",
       "      <td>0.586278</td>\n",
       "      <td>0.543531</td>\n",
       "      <td>0.273492</td>\n",
       "      <td>0.232469</td>\n",
       "      <td>1.000000</td>\n",
       "      <td>0.516310</td>\n",
       "    </tr>\n",
       "    <tr>\n",
       "      <th>SHOP</th>\n",
       "      <td>0.426582</td>\n",
       "      <td>0.485809</td>\n",
       "      <td>0.174434</td>\n",
       "      <td>0.137533</td>\n",
       "      <td>0.516310</td>\n",
       "      <td>1.000000</td>\n",
       "    </tr>\n",
       "  </tbody>\n",
       "</table>\n",
       "</div>"
      ],
      "text/plain": [
       "          AAPL      AMZN       DAL        GE      PYPL      SHOP\n",
       "AAPL  1.000000  0.587826  0.324324  0.324375  0.586278  0.426582\n",
       "AMZN  0.587826  1.000000  0.191837  0.199658  0.543531  0.485809\n",
       "DAL   0.324324  0.191837  1.000000  0.483712  0.273492  0.174434\n",
       "GE    0.324375  0.199658  0.483712  1.000000  0.232469  0.137533\n",
       "PYPL  0.586278  0.543531  0.273492  0.232469  1.000000  0.516310\n",
       "SHOP  0.426582  0.485809  0.174434  0.137533  0.516310  1.000000"
      ]
     },
     "execution_count": 62,
     "metadata": {},
     "output_type": "execute_result"
    }
   ],
   "source": [
    "# Calculate the correlation\n",
    "portfolio_rtn = portfolio.pct_change()\n",
    "correlation = portfolio_rtn.corr()\n",
    "# Display de correlation matrix\n",
    "correlation"
   ]
  },
  {
   "cell_type": "code",
   "execution_count": 63,
   "metadata": {},
   "outputs": [
    {
     "data": {
      "text/plain": [
       "<AxesSubplot:xlabel='Date'>"
      ]
     },
     "execution_count": 63,
     "metadata": {},
     "output_type": "execute_result"
    },
    {
     "data": {
      "image/png": "[encoded data removed]",
      "text/plain": [
       "<Figure size 432x288 with 1 Axes>"
      ]
     },
     "metadata": {
      "needs_background": "light"
     },
     "output_type": "display_data"
    }
   ],
   "source": [
    "portfolio.plot()"
   ]
  },
  {
   "cell_type": "code",
   "execution_count": 65,
   "metadata": {},
   "outputs": [
    {
     "data": {
      "text/plain": [
       "AMZN    0.019216\n",
       "PYPL    0.022030\n",
       "GE      0.024483\n",
       "DAL     0.026485\n",
       "SHOP    0.033246\n",
       "dtype: float64"
      ]
     },
     "execution_count": 65,
     "metadata": {},
     "output_type": "execute_result"
    }
   ],
   "source": [
    "## Calculate the standard deviation\n",
    "portfolio_std = portfolio_rtn.std()\n",
    "portfolio_std = portfolio_std.sort_values()\n",
    "portfolio_std.tail()"
   ]
  },
  {
   "cell_type": "code",
   "execution_count": 66,
   "metadata": {},
   "outputs": [
    {
     "data": {
      "text/plain": [
       "AAPL    0.303192\n",
       "AMZN    0.305042\n",
       "PYPL    0.349723\n",
       "GE      0.388658\n",
       "DAL     0.420444\n",
       "SHOP    0.527766\n",
       "dtype: float64"
      ]
     },
     "execution_count": 66,
     "metadata": {},
     "output_type": "execute_result"
    }
   ],
   "source": [
    "## Calculate the annualized standard deviation\n",
    "ann_portfolio_std = portfolio_std * np.sqrt(252)\n",
    "ann_portfolio_std = ann_portfolio_std.sort_values()\n",
    "ann_portfolio_std"
   ]
  },
  {
   "cell_type": "code",
   "execution_count": 64,
   "metadata": {},
   "outputs": [
    {
     "data": {
      "text/plain": [
       "<AxesSubplot:xlabel='Date'>"
      ]
     },
     "execution_count": 64,
     "metadata": {},
     "output_type": "execute_result"
    },
    {
     "data": {
      "image/png": "[encoded data removed]",
      "text/plain": [
       "<Figure size 1440x720 with 1 Axes>"
      ]
     },
     "metadata": {
      "needs_background": "light"
     },
     "output_type": "display_data"
    }
   ],
   "source": [
    "# Calculate cumulative returns of all portfolios\n",
    "portfolio_cum = (1 + portfolio_rtn).cumprod()-1\n",
    "# Plot cumulative returns\n",
    "portfolio_cum.plot(kind=\"line\", figsize=(20,10))"
   ]
  },
  {
   "cell_type": "code",
   "execution_count": null,
   "metadata": {},
   "outputs": [],
   "source": [
    "# Box plot to visually show risk\n",
    "cumulative_returns.plot.box(figsize=(20,10))"
   ]
  },
  {
   "cell_type": "code",
   "execution_count": null,
   "metadata": {},
   "outputs": [],
   "source": []
  },
  {
   "cell_type": "code",
   "execution_count": 67,
   "metadata": {},
   "outputs": [],
   "source": [
    "### TOTAL PORTFOLIO PERCENT CHANGE AS A SINGLE DATAFRAME"
   ]
  },
  {
   "cell_type": "markdown",
   "metadata": {},
   "source": [
    "### Sharpe Ratios"
   ]
  },
  {
   "cell_type": "code",
   "execution_count": 68,
   "metadata": {},
   "outputs": [],
   "source": [
    "## Import Risk Free Rate"
   ]
  },
  {
   "cell_type": "code",
   "execution_count": null,
   "metadata": {},
   "outputs": [],
   "source": [
    "t_bill_10_yr = yf.download(\"^TNX\", start=\"2001-04-01\", end=\"2021-04-01\").Close"
   ]
  },
  {
   "cell_type": "code",
   "execution_count": null,
   "metadata": {},
   "outputs": [],
   "source": []
  },
  {
   "cell_type": "code",
   "execution_count": null,
   "metadata": {},
   "outputs": [],
   "source": [
    "# Use the concat function to combine the DataFrames by column and perform an inner join. \n",
    "combined_df = pd.concat([portfolio, t_bill_10_yr], axis=\"columns\", join=\"inner\")\n",
    "\n",
    "# Sort datetime index in ascending order (past to present)\n",
    "combined_df.sort_index(inplace=True)\n",
    "\n",
    "# Display a few rows\n",
    "combined_df.head()"
   ]
  },
  {
   "cell_type": "code",
   "execution_count": null,
   "metadata": {},
   "outputs": [],
   "source": []
  },
  {
   "cell_type": "code",
   "execution_count": null,
   "metadata": {},
   "outputs": [],
   "source": []
  },
  {
   "cell_type": "code",
   "execution_count": null,
   "metadata": {},
   "outputs": [],
   "source": []
  },
  {
   "cell_type": "markdown",
   "metadata": {},
   "source": [
    "### Monte Carlo Simulation"
   ]
  },
  {
   "cell_type": "code",
   "execution_count": null,
   "metadata": {},
   "outputs": [],
   "source": [
    "## If horizon = XXX. . . num_trading_days = 252* XXX"
   ]
  },
  {
   "cell_type": "code",
   "execution_count": null,
   "metadata": {},
   "outputs": [],
   "source": [
    "# 20 years of historical data\n",
    "start_date = pd.Timestamp('2001-04-01', tz='America/New_York').isoformat()\n",
    "end_date = pd.Timestamp('2021-04-01', tz='America/New_York').isoformat()"
   ]
  },
  {
   "cell_type": "code",
   "execution_count": null,
   "metadata": {},
   "outputs": [],
   "source": [
    "# Get 5 years' worth of historical data for SPY and AGG\n",
    "# Set the stock tickers\n",
    "tickers = [\"SPY\", \"AGG\"]\n",
    "df_1000 = alpaca.get_barset(\n",
    "    tickers,\n",
    "    timeframe,\n",
    "    start=start_date,\n",
    "    end=end_date,\n",
    "    limit=1000\n",
    ").df\n",
    "\n",
    "# Display sample data\n",
    "df_1000.sort_index().head()"
   ]
  },
  {
   "cell_type": "code",
   "execution_count": null,
   "metadata": {},
   "outputs": [],
   "source": [
    "portfolio_MC = MCSimulation(\n",
    "    portfolio_data = portfolio_rtn,\n",
    "    weights = [7.69, ],\n",
    "    num_simulation = 500,\n",
    "    num_trading_days = 252*30\n",
    ")\n",
    "portfolio_rtn.calc_cumulative_return()"
   ]
  },
  {
   "cell_type": "code",
   "execution_count": null,
   "metadata": {},
   "outputs": [],
   "source": [
    "retirement_MC.portfolio_data.tail()"
   ]
  },
  {
   "cell_type": "code",
   "execution_count": null,
   "metadata": {},
   "outputs": [],
   "source": [
    "# Running a Monte Carlo simulation to forecast 30 years cumulative returns\n",
    "retirement_MC.calc_cumulative_return()"
   ]
  },
  {
   "cell_type": "code",
   "execution_count": null,
   "metadata": {},
   "outputs": [],
   "source": [
    "# Plot simulation outcomes\n",
    "plot = retirement_MC.plot_simulation()"
   ]
  },
  {
   "cell_type": "code",
   "execution_count": null,
   "metadata": {},
   "outputs": [],
   "source": [
    "# Plot probability distribution and confidence intervals\n",
    "dist_plot = retirement_MC.plot_distribution()"
   ]
  },
  {
   "cell_type": "code",
   "execution_count": null,
   "metadata": {},
   "outputs": [],
   "source": [
    "# Fetch summary statistics from the Monte Carlo simulation results\n",
    "stats = retirement_MC.summarize_cumulative_return()\n",
    "\n",
    "\n",
    "# Print summary statistics\n",
    "print(stats)"
   ]
  },
  {
   "cell_type": "code",
   "execution_count": null,
   "metadata": {},
   "outputs": [],
   "source": [
    "# Set initial investment\n",
    "initial_investment = 20000\n",
    "\n",
    "# Use the lower and upper `95%` confidence intervals to calculate the range of the possible outcomes of our $20,000\n",
    "ci_lower = round(stats[8]*initial_investment,2)\n",
    "ci_upper = round(stats[9]*initial_investment,2)\n",
    "\n",
    "\n",
    "# Print results\n",
    "print(f\"There is a 95% chance that an initial investment of ${initial_investment} in the portfolio\"\n",
    "      f\" over the next 30 years will end within in the range of\"\n",
    "      f\" ${ci_lower} and ${ci_upper}\")"
   ]
  },
  {
   "cell_type": "code",
   "execution_count": null,
   "metadata": {},
   "outputs": [],
   "source": [
    "# Set initial investment\n",
    "initial_investment = 20000 * 1.5\n",
    "\n",
    "# Use the lower and upper `95%` confidence intervals to calculate the range of the possible outcomes of our $30,000\n",
    "ci_lower = round(stats[8]*initial_investment,2)\n",
    "ci_upper = round(stats[9]*initial_investment,2)\n",
    "\n",
    "# Print results\n",
    "print(f\"There is a 95% chance that an initial investment of ${initial_investment} in the portfolio\"\n",
    "      f\" over the next 30 years will end within in the range of\"\n",
    "      f\" ${ci_lower} and ${ci_upper}\")"
   ]
  },
  {
   "cell_type": "code",
   "execution_count": null,
   "metadata": {},
   "outputs": [],
   "source": []
  },
  {
   "cell_type": "code",
   "execution_count": null,
   "metadata": {},
   "outputs": [],
   "source": []
  },
  {
   "cell_type": "code",
   "execution_count": null,
   "metadata": {},
   "outputs": [],
   "source": []
  },
  {
   "cell_type": "code",
   "execution_count": null,
   "metadata": {},
   "outputs": [],
   "source": []
  },
  {
   "cell_type": "code",
   "execution_count": null,
   "metadata": {},
   "outputs": [],
   "source": []
  },
  {
   "cell_type": "code",
   "execution_count": 73,
   "metadata": {},
   "outputs": [
    {
     "data": {
      "text/html": [
       "<div>\n",
       "<style scoped>\n",
       "    .dataframe tbody tr th:only-of-type {\n",
       "        vertical-align: middle;\n",
       "    }\n",
       "\n",
       "    .dataframe tbody tr th {\n",
       "        vertical-align: top;\n",
       "    }\n",
       "\n",
       "    .dataframe thead th {\n",
       "        text-align: right;\n",
       "    }\n",
       "</style>\n",
       "<table border=\"1\" class=\"dataframe\">\n",
       "  <thead>\n",
       "    <tr style=\"text-align: right;\">\n",
       "      <th></th>\n",
       "      <th>name</th>\n",
       "      <th>price</th>\n",
       "      <th>exchange</th>\n",
       "    </tr>\n",
       "    <tr>\n",
       "      <th>symbol</th>\n",
       "      <th></th>\n",
       "      <th></th>\n",
       "      <th></th>\n",
       "    </tr>\n",
       "  </thead>\n",
       "  <tbody>\n",
       "    <tr>\n",
       "      <th>SPY</th>\n",
       "      <td>SPDR S&amp;P 500</td>\n",
       "      <td>406.59</td>\n",
       "      <td>New York Stock Exchange Arca</td>\n",
       "    </tr>\n",
       "    <tr>\n",
       "      <th>CMCSA</th>\n",
       "      <td>Comcast Corp</td>\n",
       "      <td>54.60</td>\n",
       "      <td>Nasdaq Global Select</td>\n",
       "    </tr>\n",
       "    <tr>\n",
       "      <th>KMI</th>\n",
       "      <td>Kinder Morgan Inc</td>\n",
       "      <td>16.93</td>\n",
       "      <td>New York Stock Exchange</td>\n",
       "    </tr>\n",
       "    <tr>\n",
       "      <th>INTC</th>\n",
       "      <td>Intel Corp</td>\n",
       "      <td>66.25</td>\n",
       "      <td>Nasdaq Global Select</td>\n",
       "    </tr>\n",
       "    <tr>\n",
       "      <th>MU</th>\n",
       "      <td>Micron Technology Inc</td>\n",
       "      <td>93.96</td>\n",
       "      <td>Nasdaq Global Select</td>\n",
       "    </tr>\n",
       "    <tr>\n",
       "      <th>...</th>\n",
       "      <td>...</td>\n",
       "      <td>...</td>\n",
       "      <td>...</td>\n",
       "    </tr>\n",
       "    <tr>\n",
       "      <th>CMLTU</th>\n",
       "      <td>CM Life Sciences III Inc. Unit</td>\n",
       "      <td>11.19</td>\n",
       "      <td>NasdaqGS</td>\n",
       "    </tr>\n",
       "    <tr>\n",
       "      <th>MACA</th>\n",
       "      <td>Moringa Acquisition Corp Class A Ordinary Shares</td>\n",
       "      <td>10.00</td>\n",
       "      <td>NasdaqGS</td>\n",
       "    </tr>\n",
       "    <tr>\n",
       "      <th>MACAW</th>\n",
       "      <td>Moringa Acquisition Corp Warrant</td>\n",
       "      <td>0.00</td>\n",
       "      <td>Nasdaq</td>\n",
       "    </tr>\n",
       "    <tr>\n",
       "      <th>PANA</th>\n",
       "      <td>Panacea Acquisition Corp. II Class A Ordinary ...</td>\n",
       "      <td>10.00</td>\n",
       "      <td>New York Stock Exchange</td>\n",
       "    </tr>\n",
       "    <tr>\n",
       "      <th>TG1.AX</th>\n",
       "      <td>Techgen Metals Ltd</td>\n",
       "      <td>0.32</td>\n",
       "      <td>ASX</td>\n",
       "    </tr>\n",
       "  </tbody>\n",
       "</table>\n",
       "<p>29826 rows × 3 columns</p>\n",
       "</div>"
      ],
      "text/plain": [
       "                                                     name   price  \\\n",
       "symbol                                                              \n",
       "SPY                                          SPDR S&P 500  406.59   \n",
       "CMCSA                                        Comcast Corp   54.60   \n",
       "KMI                                     Kinder Morgan Inc   16.93   \n",
       "INTC                                           Intel Corp   66.25   \n",
       "MU                                  Micron Technology Inc   93.96   \n",
       "...                                                   ...     ...   \n",
       "CMLTU                      CM Life Sciences III Inc. Unit   11.19   \n",
       "MACA     Moringa Acquisition Corp Class A Ordinary Shares   10.00   \n",
       "MACAW                    Moringa Acquisition Corp Warrant    0.00   \n",
       "PANA    Panacea Acquisition Corp. II Class A Ordinary ...   10.00   \n",
       "TG1.AX                                 Techgen Metals Ltd    0.32   \n",
       "\n",
       "                            exchange  \n",
       "symbol                                \n",
       "SPY     New York Stock Exchange Arca  \n",
       "CMCSA           Nasdaq Global Select  \n",
       "KMI          New York Stock Exchange  \n",
       "INTC            Nasdaq Global Select  \n",
       "MU              Nasdaq Global Select  \n",
       "...                              ...  \n",
       "CMLTU                       NasdaqGS  \n",
       "MACA                        NasdaqGS  \n",
       "MACAW                         Nasdaq  \n",
       "PANA         New York Stock Exchange  \n",
       "TG1.AX                           ASX  \n",
       "\n",
       "[29826 rows x 3 columns]"
      ]
     },
     "execution_count": 73,
     "metadata": {},
     "output_type": "execute_result"
    }
   ],
   "source": [
    "fa.available_companies(\"bee73dfea0cf26c6dca8b1374f4488a5\")"
   ]
  },
  {
   "cell_type": "code",
   "execution_count": 74,
   "metadata": {},
   "outputs": [],
   "source": [
    "import FundamentalAnalysis as fa\n",
    "\n",
    "ticker = \"AAPL\"\n",
    "api_key = \"bee73dfea0cf26c6dca8b1374f4488a5\"\n",
    "\n",
    "# Show the available companies\n",
    "companies = fa.available_companies(api_key)\n",
    "\n",
    "# Collect general company information\n",
    "profile = fa.profile(ticker, api_key)\n",
    "\n",
    "# Collect recent company quotes\n",
    "quotes = fa.quote(ticker, api_key)\n",
    "\n",
    "# Collect market cap and enterprise value\n",
    "entreprise_value = fa.enterprise(ticker, api_key)\n",
    "\n",
    "# Show recommendations of Analysts\n",
    "ratings = fa.rating(ticker, api_key)\n",
    "\n",
    "# Obtain DCFs over time\n",
    "dcf_annually = fa.discounted_cash_flow(ticker, api_key, period=\"annual\")\n",
    "dcf_quarterly = fa.discounted_cash_flow(ticker, api_key, period=\"quarter\")\n",
    "\n",
    "# Collect the Balance Sheet statements\n",
    "balance_sheet_annually = fa.balance_sheet_statement(ticker, api_key, period=\"annual\")\n",
    "balance_sheet_quarterly = fa.balance_sheet_statement(ticker, api_key, period=\"quarter\")\n",
    "\n",
    "# Collect the Income Statements\n",
    "income_statement_annually = fa.income_statement(ticker, api_key, period=\"annual\")\n",
    "income_statement_quarterly = fa.income_statement(ticker, api_key, period=\"quarter\")\n",
    "\n",
    "# Collect the Cash Flow Statements\n",
    "cash_flow_statement_annually = fa.cash_flow_statement(ticker, api_key, period=\"annual\")\n",
    "cash_flow_statement_quarterly = fa.cash_flow_statement(ticker, api_key, period=\"quarter\")\n",
    "\n",
    "# Show Key Metrics\n",
    "key_metrics_annually = fa.key_metrics(ticker, api_key, period=\"annual\")\n",
    "key_metrics_quarterly = fa.key_metrics(ticker, api_key, period=\"quarter\")\n",
    "\n",
    "# Show a large set of in-depth ratios\n",
    "financial_ratios_annually = fa.financial_ratios(ticker, api_key, period=\"annual\")\n",
    "financial_ratios_quarterly = fa.financial_ratios(ticker, api_key, period=\"quarter\")\n",
    "\n",
    "# Show the growth of the company\n",
    "growth_annually = fa.financial_statement_growth(ticker, api_key, period=\"annual\")\n",
    "growth_quarterly = fa.financial_statement_growth(ticker, api_key, period=\"quarter\")\n",
    "\n",
    "# Download general stock data\n",
    "stock_data = fa.stock_data(ticker, period=\"ytd\", interval=\"1d\")\n",
    "\n",
    "# Download detailed stock data\n",
    "stock_data_detailed = fa.stock_data_detailed(ticker, api_key, begin=\"2000-01-01\", end=\"2020-01-01\")"
   ]
  },
  {
   "cell_type": "code",
   "execution_count": 75,
   "metadata": {},
   "outputs": [
    {
     "data": {
      "text/html": [
       "<div>\n",
       "<style scoped>\n",
       "    .dataframe tbody tr th:only-of-type {\n",
       "        vertical-align: middle;\n",
       "    }\n",
       "\n",
       "    .dataframe tbody tr th {\n",
       "        vertical-align: top;\n",
       "    }\n",
       "\n",
       "    .dataframe thead th {\n",
       "        text-align: right;\n",
       "    }\n",
       "</style>\n",
       "<table border=\"1\" class=\"dataframe\">\n",
       "  <thead>\n",
       "    <tr style=\"text-align: right;\">\n",
       "      <th></th>\n",
       "    </tr>\n",
       "  </thead>\n",
       "  <tbody>\n",
       "  </tbody>\n",
       "</table>\n",
       "</div>"
      ],
      "text/plain": [
       "Empty DataFrame\n",
       "Columns: []\n",
       "Index: []"
      ]
     },
     "metadata": {},
     "output_type": "display_data"
    }
   ],
   "source": [
    "SPY_profile = fa.financial_ratios(\"ICBU\", api_key)\n",
    "display(SPY_profile)"
   ]
  },
  {
   "cell_type": "code",
   "execution_count": 76,
   "metadata": {},
   "outputs": [
    {
     "ename": "NameError",
     "evalue": "name 'request_url' is not defined",
     "output_type": "error",
     "traceback": [
      "\u001b[1;31m---------------------------------------------------------------------------\u001b[0m",
      "\u001b[1;31mNameError\u001b[0m                                 Traceback (most recent call last)",
      "\u001b[1;32m<ipython-input-76-05957e357b47>\u001b[0m in \u001b[0;36m<module>\u001b[1;34m\u001b[0m\n\u001b[1;32m----> 1\u001b[1;33m \u001b[0mdata\u001b[0m \u001b[1;33m=\u001b[0m \u001b[0mrequests\u001b[0m\u001b[1;33m.\u001b[0m\u001b[0mget\u001b[0m\u001b[1;33m(\u001b[0m\u001b[0mrequest_url\u001b[0m\u001b[1;33m)\u001b[0m\u001b[1;33m.\u001b[0m\u001b[0mjson\u001b[0m\u001b[1;33m(\u001b[0m\u001b[1;33m)\u001b[0m\u001b[1;33m\u001b[0m\u001b[1;33m\u001b[0m\u001b[0m\n\u001b[0m",
      "\u001b[1;31mNameError\u001b[0m: name 'request_url' is not defined"
     ]
    }
   ],
   "source": [
    "data = requests.get(request_url).json()"
   ]
  },
  {
   "cell_type": "code",
   "execution_count": null,
   "metadata": {},
   "outputs": [],
   "source": []
  },
  {
   "cell_type": "code",
   "execution_count": null,
   "metadata": {},
   "outputs": [],
   "source": []
  },
  {
   "cell_type": "code",
   "execution_count": null,
   "metadata": {},
   "outputs": [],
   "source": []
  },
  {
   "cell_type": "code",
   "execution_count": null,
   "metadata": {},
   "outputs": [],
   "source": []
  },
  {
   "cell_type": "code",
   "execution_count": null,
   "metadata": {},
   "outputs": [],
   "source": []
  },
  {
   "cell_type": "code",
   "execution_count": null,
   "metadata": {},
   "outputs": [],
   "source": []
  },
  {
   "cell_type": "code",
   "execution_count": null,
   "metadata": {},
   "outputs": [],
   "source": []
  },
  {
   "cell_type": "code",
   "execution_count": null,
   "metadata": {},
   "outputs": [],
   "source": []
  },
  {
   "cell_type": "code",
   "execution_count": null,
   "metadata": {},
   "outputs": [],
   "source": []
  },
  {
   "cell_type": "code",
   "execution_count": null,
   "metadata": {},
   "outputs": [],
   "source": []
  },
  {
   "cell_type": "code",
   "execution_count": null,
   "metadata": {},
   "outputs": [],
   "source": []
  },
  {
   "cell_type": "code",
   "execution_count": null,
   "metadata": {},
   "outputs": [],
   "source": []
  },
  {
   "cell_type": "code",
   "execution_count": null,
   "metadata": {},
   "outputs": [],
   "source": []
  },
  {
   "cell_type": "code",
   "execution_count": null,
   "metadata": {},
   "outputs": [],
   "source": []
  },
  {
   "cell_type": "code",
   "execution_count": null,
   "metadata": {},
   "outputs": [],
   "source": []
  },
  {
   "cell_type": "code",
   "execution_count": null,
   "metadata": {},
   "outputs": [],
   "source": []
  },
  {
   "cell_type": "code",
   "execution_count": null,
   "metadata": {},
   "outputs": [],
   "source": []
  },
  {
   "cell_type": "code",
   "execution_count": null,
   "metadata": {},
   "outputs": [],
   "source": []
  },
  {
   "cell_type": "code",
   "execution_count": null,
   "metadata": {},
   "outputs": [],
   "source": []
  },
  {
   "cell_type": "code",
   "execution_count": null,
   "metadata": {},
   "outputs": [],
   "source": []
  },
  {
   "cell_type": "code",
   "execution_count": null,
   "metadata": {},
   "outputs": [],
   "source": []
  },
  {
   "cell_type": "code",
   "execution_count": null,
   "metadata": {},
   "outputs": [],
   "source": []
  }
 ],
 "metadata": {
  "kernelspec": {
   "display_name": "Python 3",
   "language": "python",
   "name": "python3"
  },
  "language_info": {
   "codemirror_mode": {
    "name": "ipython",
    "version": 3
   },
   "file_extension": ".py",
   "mimetype": "text/x-python",
   "name": "python",
   "nbconvert_exporter": "python",
   "pygments_lexer": "ipython3",
   "version": "3.7.9"
  }
 },
 "nbformat": 4,
 "nbformat_minor": 4
}
